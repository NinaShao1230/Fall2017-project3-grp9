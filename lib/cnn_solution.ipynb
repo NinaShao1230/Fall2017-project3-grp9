{
 "cells": [
  {
   "cell_type": "code",
   "execution_count": 65,
   "metadata": {},
   "outputs": [],
   "source": [
    "# build a keras CNN model\n",
    "# from http://adventuresinmachinelearning.com/keras-tutorial-cnn-11-lines/\n",
    "\n",
    "import keras\n",
    "from keras.models import Sequential\n",
    "from keras.layers import Conv2D, MaxPooling2D, Flatten, Dense\n",
    "\n",
    "num_classes = 3\n",
    "model = Sequential()\n",
    "model.add(Conv2D(32, kernel_size=(5, 5), strides=(1, 1),\n",
    "                 activation='relu',\n",
    "                 input_shape=[75, 75, 1]))\n",
    "model.add(MaxPooling2D(pool_size=(2, 2), strides=(2, 2)))\n",
    "model.add(Conv2D(64, (5, 5), activation='relu'))\n",
    "model.add(MaxPooling2D(pool_size=(2, 2)))\n",
    "model.add(Flatten())\n",
    "model.add(Dense(1000, activation='relu'))\n",
    "model.add(Dense(num_classes, activation='softmax'))\n",
    "\n",
    "model.compile(loss=keras.losses.categorical_crossentropy,\n",
    "              optimizer=keras.optimizers.SGD(lr=0.01),\n",
    "              metrics=['accuracy'])\n"
   ]
  },
  {
   "cell_type": "code",
   "execution_count": null,
   "metadata": {},
   "outputs": [],
   "source": [
    "# useless\n",
    "import matplotlib.pyplot as plt\n",
    "import scipy.ndimage\n",
    "shapes = []\n",
    "for i in range(1, 3001):\n",
    "    img = scipy.ndimage.imread('training_set/images/img_%04d.jpg' % i)\n",
    "    shapes.append(img.shape)\n",
    "    print(i)\n",
    "\n",
    "zsize = list(zip(*shapes))\n",
    "print(len(zsize))\n",
    "print(min(zsize[0]))  # 103\n",
    "print(min(zsize[1]))  # 76"
   ]
  },
  {
   "cell_type": "code",
   "execution_count": 10,
   "metadata": {},
   "outputs": [
    {
     "data": {
      "image/png": "[encoded data removed]",
      "text/plain": [
       "<matplotlib.figure.Figure at 0x115e1d208>"
      ]
     },
     "metadata": {},
     "output_type": "display_data"
    },
    {
     "name": "stdout",
     "output_type": "stream",
     "text": [
      "(75, 75, 3)\n"
     ]
    }
   ],
   "source": [
    "# test code: downsampling images\n",
    "import scipy.misc\n",
    "img = scipy.ndimage.imread('training_set/images/img_0001.jpg')\n",
    "img2 = scipy.misc.imresize(img, [75, 75])\n",
    "plt.imshow(img2)\n",
    "plt.show()\n",
    "print(img2.shape)"
   ]
  },
  {
   "cell_type": "code",
   "execution_count": 51,
   "metadata": {},
   "outputs": [],
   "source": [
    "# read labels from file\n",
    "import csv\n",
    "with open('training_set/label_train.csv', newline='') as f:\n",
    "    dataset = csv.reader(f, delimiter=',')\n",
    "    dataset.__next__()\n",
    "    zdset = list(zip(*dataset))\n",
    "\n",
    "labels = zdset[1]\n",
    "one_hots = np.zeros((len(labels), 3))\n",
    "\n",
    "for k in range(len(labels)):\n",
    "    one_hots[k, int(labels[k])] = 1"
   ]
  },
  {
   "cell_type": "code",
   "execution_count": null,
   "metadata": {},
   "outputs": [],
   "source": [
    "# prepare the images\n",
    "\n",
    "import numpy as np\n",
    "\n",
    "def x_train_gen():\n",
    "    for i in range(1, 3001):\n",
    "        img = scipy.ndimage.imread('training_set/images/img_%04d.jpg' % i)\n",
    "        yield scipy.misc.imresize(img, [75, 75])\n",
    "\n",
    "        \n",
    "all_data_set = []\n",
    "for k, img in enumerate(x_train_gen()):\n",
    "    all_data_set.append(img)"
   ]
  },
  {
   "cell_type": "code",
   "execution_count": 66,
   "metadata": {},
   "outputs": [
    {
     "name": "stdout",
     "output_type": "stream",
     "text": [
      "3000\n",
      "(75, 75, 1)\n"
     ]
    }
   ],
   "source": [
    "# preprocess the images into gray scale\n",
    "\n",
    "def rgb2gray(rgb):\n",
    "    r, g, b = rgb[:,:,0], rgb[:,:,1], rgb[:,:,2]\n",
    "    gray = 0.2989 * r + 0.5870 * g + 0.1140 * b\n",
    "    return gray\n",
    "\n",
    "\n",
    "images = []\n",
    "for x in all_data_set:\n",
    "    if len(x.shape) == 3:\n",
    "        y = rgb2gray(x)\n",
    "    else:\n",
    "        y = x\n",
    "    y = np.expand_dims(y, 2)\n",
    "    images.append(y)\n",
    "\n",
    "print(len(images))\n",
    "print(images[0].shape)"
   ]
  },
  {
   "cell_type": "code",
   "execution_count": 71,
   "metadata": {},
   "outputs": [],
   "source": [
    "# partition of training and validation dataset\n",
    "\n",
    "N = 2900\n",
    "training_x = images[:N]\n",
    "training_y = one_hots[:N, :]\n",
    "\n",
    "validation_x = images[N:]\n",
    "validation_y = one_hots[N:, :]"
   ]
  },
  {
   "cell_type": "code",
   "execution_count": null,
   "metadata": {},
   "outputs": [],
   "source": [
    "# training\n",
    "\n",
    "batch_size = 20\n",
    "epochs = 20\n",
    "model.fit(np.array(training_x), np.array(training_y),\n",
    "          batch_size=batch_size,\n",
    "          epochs=epochs,\n",
    "          verbose=1,\n",
    "          validation_data=(np.array(validation_x), np.array(validation_y)))"
   ]
  },
  {
   "cell_type": "code",
   "execution_count": null,
   "metadata": {},
   "outputs": [],
   "source": []
  }
 ],
 "metadata": {
  "kernelspec": {
   "display_name": "Python 3",
   "language": "python",
   "name": "python3"
  },
  "language_info": {
   "codemirror_mode": {
    "name": "ipython",
    "version": 3
   },
   "file_extension": ".py",
   "mimetype": "text/x-python",
   "name": "python",
   "nbconvert_exporter": "python",
   "pygments_lexer": "ipython3",
   "version": "3.6.3"
  }
 },
 "nbformat": 4,
 "nbformat_minor": 2
}
