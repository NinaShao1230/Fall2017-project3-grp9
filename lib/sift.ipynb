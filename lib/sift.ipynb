{
 "cells": [
  {
   "cell_type": "code",
   "execution_count": 1,
   "metadata": {
    "collapsed": true
   },
   "outputs": [],
   "source": [
    "import numpy as np\n",
    "import csv\n",
    "import cv2\n",
    "from os import listdir"
   ]
  },
  {
   "cell_type": "code",
   "execution_count": 21,
   "metadata": {
    "collapsed": true
   },
   "outputs": [],
   "source": [
    "path1 = '/Users/ninashao/Desktop/Fall2017-project3-fall2017-project3-grp9-master 2/data/training_set/images/'\n",
    "image_lists = listdir(path1)\n",
    "# len(image_lists)\n",
    "image_dir_list = []\n",
    "for i in range(len(image_lists)-1):\n",
    "    image_dir_list.append(path1+image_lists[i+1])"
   ]
  },
  {
   "cell_type": "code",
   "execution_count": 15,
   "metadata": {},
   "outputs": [
    {
     "data": {
      "text/plain": [
       "3000"
      ]
     },
     "execution_count": 15,
     "metadata": {},
     "output_type": "execute_result"
    }
   ],
   "source": [
    "len(image_dir_list)"
   ]
  },
  {
   "cell_type": "code",
   "execution_count": null,
   "metadata": {
    "scrolled": true
   },
   "outputs": [],
   "source": [
    "his = [] \n",
    "num = 0\n",
    "for i in range(len(image_dir_list)):\n",
    "    im = cv2.imread(image_dir_list[i])\n",
    "    im_gray = cv2.cvtColor(im, cv2.COLOR_BGR2GRAY)\n",
    "    sift = cv2.xfeatures2d.SIFT_create()\n",
    "    kp, des = sift.detectAndCompute(im_gray,None)\n",
    "    \n",
    "    label = np.array([i+1])\n",
    "    label = np.repeat(label, len(kp))\n",
    "    label = label.reshape(len(kp),1)\n",
    "    if len(kp) == 0:\n",
    "        continue\n",
    "    \n",
    "    if i == 0:\n",
    "        feature_matrix = np.concatenate((des, label), 1)\n",
    "        \n",
    "    else:\n",
    "        des_label = np.concatenate((des, label), 1)\n",
    "        feature_matrix = np.concatenate((feature_matrix, des_label), axis=0)\n",
    "\n",
    "    num += len(des)\n",
    "    print(i)\n",
    "    \n",
    "        \n",
    "feature_list = feature_matrix.tolist()\n",
    "\n",
    "with open(\"/Users/ninashao/Desktop/Fall2017-project3-fall2017-project3-grp9-master 2/data/sift_feature.csv\", \"w\") as f:\n",
    "    writer = csv.writer(f, delimiter =',')\n",
    "    writer.writerows(feature_list)"
   ]
  }
 ],
 "metadata": {
  "kernelspec": {
   "display_name": "Python 2",
   "language": "python",
   "name": "python2"
  },
  "language_info": {
   "codemirror_mode": {
    "name": "ipython",
    "version": 2
   },
   "file_extension": ".py",
   "mimetype": "text/x-python",
   "name": "python",
   "nbconvert_exporter": "python",
   "pygments_lexer": "ipython2",
   "version": "2.7.14"
  }
 },
 "nbformat": 4,
 "nbformat_minor": 2
}
