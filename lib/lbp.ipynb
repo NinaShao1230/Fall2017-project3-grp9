{
 "cells": [
  {
   "cell_type": "code",
   "execution_count": null,
   "metadata": {
    "collapsed": true
   },
   "outputs": [],
   "source": [
    "%pylab inline --no-import-all\n",
    "# OpenCV bindings\n",
    "import cv2\n",
    "# To performing path manipulations \n",
    "import os \n",
    "from os import listdir\n",
    "# Local Binary Pattern function\n",
    "from skimage import feature\n",
    "# To calculate a normalized histogram \n",
    "from scipy.stats import itemfreq\n",
    "from sklearn.preprocessing import normalize\n",
    "# Utility package -- use pip install cvutils to install\n",
    "import cvutils\n",
    "# To read class from file\n",
    "import csv"
   ]
  },
  {
   "cell_type": "code",
   "execution_count": 34,
   "metadata": {},
   "outputs": [],
   "source": [
    "# http://hanzratech.in/2015/05/30/local-binary-patterns.html\n",
    "path1 = '/Users/ninashao/Desktop/Fall2017-project3-fall2017-project3-grp9-master 2/data/training_set/images/'\n",
    "image_lists = listdir(path1)\n",
    "image_dir_list = []\n",
    "for i in range(len(image_lists)-1):\n",
    "    image_dir_list.append(path1+image_lists[i+1])"
   ]
  },
  {
   "cell_type": "code",
   "execution_count": 40,
   "metadata": {},
   "outputs": [],
   "source": [
    "# limit = 10 \n",
    "his = [] \n",
    "for i in range(len(image_dir_list)):\n",
    "#     print(i)\n",
    "    im = cv2.imread(image_dir_list[i])\n",
    "    im_gray = cv2.cvtColor(im, cv2.COLOR_BGR2GRAY)\n",
    "    radius = 3\n",
    "    no_points = 8 * radius\n",
    "    lbp = feature.local_binary_pattern(im_gray, no_points, radius, method='uniform')\n",
    "    x = itemfreq(lbp.ravel())\n",
    "    hist = x[:, 1]/sum(x[:, 1])\n",
    "    his.append(hist)\n",
    "    print(i)\n",
    "#     limit -= 1 \n",
    "#     if limit == 0: \n",
    "#         break"
   ]
  },
  {
   "cell_type": "code",
   "execution_count": 48,
   "metadata": {},
   "outputs": [],
   "source": [
    "with open(\"/Users/ninashao/Desktop/Fall2017-project3-fall2017-project3-grp9-master 2/data/lbp_feature.csv\", \"w\") as f:\n",
    "    writer = csv.writer(f, delimiter =',')\n",
    "    writer.writerows(his)"
   ]
  }
 ],
 "metadata": {
  "kernelspec": {
   "display_name": "Python 2",
   "language": "python",
   "name": "python2"
  },
  "language_info": {
   "codemirror_mode": {
    "name": "ipython",
    "version": 2
   },
   "file_extension": ".py",
   "mimetype": "text/x-python",
   "name": "python",
   "nbconvert_exporter": "python",
   "pygments_lexer": "ipython2",
   "version": "2.7.14"
  }
 },
 "nbformat": 4,
 "nbformat_minor": 2
}
